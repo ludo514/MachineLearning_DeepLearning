{
 "cells": [
  {
   "cell_type": "code",
   "execution_count": 10,
   "id": "b0a3a6c4-7418-4f0d-b9b0-8445deaf4996",
   "metadata": {},
   "outputs": [
    {
     "data": {
      "text/plain": [
       "3"
      ]
     },
     "execution_count": 10,
     "metadata": {},
     "output_type": "execute_result"
    }
   ],
   "source": [
    "import glob\n",
    "x = -3\n",
    "y = 3.14\n",
    "abs(x)\n",
    "round(y)"
   ]
  },
  {
   "cell_type": "code",
   "execution_count": 11,
   "id": "83ae77ab-cd94-4b8c-8e45-7a4d68f50339",
   "metadata": {},
   "outputs": [],
   "source": [
    "list_1 = [True, True, False]"
   ]
  },
  {
   "cell_type": "code",
   "execution_count": 12,
   "id": "edf9afdc-50d9-4ca3-99a4-3063bb737487",
   "metadata": {},
   "outputs": [
    {
     "data": {
      "text/plain": [
       "False"
      ]
     },
     "execution_count": 12,
     "metadata": {},
     "output_type": "execute_result"
    }
   ],
   "source": [
    "all(list_1)\n",
    "#renvoie false car tout les éléments ne sont pas égale à True"
   ]
  },
  {
   "cell_type": "code",
   "execution_count": 13,
   "id": "f712de7a-0142-4c19-b1b4-7bd5e87b2555",
   "metadata": {},
   "outputs": [
    {
     "data": {
      "text/plain": [
       "True"
      ]
     },
     "execution_count": 13,
     "metadata": {},
     "output_type": "execute_result"
    }
   ],
   "source": [
    "any(list_1)\n",
    "#renvoie True car au moins un des éléments est à False"
   ]
  },
  {
   "cell_type": "code",
   "execution_count": 16,
   "id": "cfa93e87-8d8e-490c-8e85-056e001b30b7",
   "metadata": {},
   "outputs": [
    {
     "name": "stdout",
     "output_type": "stream",
     "text": [
      "['built-in_Function.ipynb', 'Dict_list_comprehension.ipynb']\n"
     ]
    }
   ],
   "source": [
    "print(glob.glob(\"*\"))"
   ]
  },
  {
   "cell_type": "code",
   "execution_count": 17,
   "id": "880ae71e-4445-43ab-b22c-39a384f03ec5",
   "metadata": {},
   "outputs": [
    {
     "name": "stdout",
     "output_type": "stream",
     "text": [
      "15651\n",
      "651\n",
      "65464\n",
      "54\n",
      "5644\n",
      "56\n",
      "55\n",
      "15\n",
      "56\n",
      "5644444\n",
      "654\n",
      "46544\n",
      "534.454\n",
      "4\n",
      "3433\n",
      "0.545\n",
      "5465405\n",
      "456\n",
      "444\n",
      "4879\n",
      "66230\n",
      "615\n",
      "106\n",
      "56\n",
      "4\n",
      "6789\n",
      "0.544468\n",
      "28.08494\n",
      "845894\n",
      "158444464\n",
      "56\n",
      "465465879\n",
      "8\n",
      "4789684848548\n",
      "69442146541\n",
      "56\n",
      "4156\n",
      "45458798789\n",
      "8\n",
      "7897\n",
      "987\n",
      "98303.054\n"
     ]
    }
   ],
   "source": [
    "filenames = glob.glob(\"*.txt\")\n",
    "for file in filenames:\n",
    "    with open(file, 'r') as f:\n",
    "        print(f.read())"
   ]
  },
  {
   "cell_type": "code",
   "execution_count": 44,
   "id": "d1d948b5-afde-4b05-8d92-dbb28324e29f",
   "metadata": {},
   "outputs": [
    {
     "name": "stdout",
     "output_type": "stream",
     "text": [
      "{'données_1.txt': ['15651', '651', '65464', '54', '5644', '56', '55', '15', '56', '5644444', '654', '46544', '534.454', '4', '3433', '0.545'], 'données_2.txt': ['5465405', '456', '444', '4879', '66230', '615', '106', '56', '4', '6789', '0.544468', '28.08494', '845894'], 'données_3.txt': ['158444464', '56', '465465879', '8', '4789684848548', '69442146541', '56', '4156', '45458798789', '8', '7897', '987', '98303.054']}\n"
     ]
    }
   ],
   "source": [
    "#with open(\"données_1.txt\", 'r') as f:\n",
    "    #file_content = f.readlines()\n",
    "    #list_1 = []\n",
    "    #for line in file_content:\n",
    "        #list_1.append(float(line))\n",
    "#dico_donnees_1 = {k:v for k, v in enumerate(list_1)}\n",
    "#print(dico_donnees_1)\n",
    "d = {}\n",
    "for file in filenames:\n",
    "    with open(file,'r') as f:\n",
    "        d[file] = f.read().splitlines()\n",
    "print(d)"
   ]
  }
 ],
 "metadata": {
  "kernelspec": {
   "display_name": "Python 3",
   "language": "python",
   "name": "python3"
  },
  "language_info": {
   "codemirror_mode": {
    "name": "ipython",
    "version": 3
   },
   "file_extension": ".py",
   "mimetype": "text/x-python",
   "name": "python",
   "nbconvert_exporter": "python",
   "pygments_lexer": "ipython3",
   "version": "3.7.7"
  }
 },
 "nbformat": 4,
 "nbformat_minor": 5
}
