{
 "cells": [
  {
   "cell_type": "code",
   "execution_count": null,
   "id": "4838858e",
   "metadata": {},
   "outputs": [],
   "source": []
  },
  {
   "cell_type": "markdown",
   "id": "ac018045",
   "metadata": {},
   "source": [
    "# LIST "
   ]
  },
  {
   "cell_type": "code",
   "execution_count": 1,
   "id": "dee1bf77",
   "metadata": {},
   "outputs": [
    {
     "name": "stdout",
     "output_type": "stream",
     "text": [
      "[0, 1, 4, 9, 16, 25, 36, 49, 64, 81]\n"
     ]
    }
   ],
   "source": [
    "list_1 = []\n",
    "for i in range(10):\n",
    "    list_1.append(i**2)\n",
    "print(list_1)"
   ]
  },
  {
   "cell_type": "code",
   "execution_count": 2,
   "id": "8dc2ab49",
   "metadata": {},
   "outputs": [
    {
     "name": "stdout",
     "output_type": "stream",
     "text": [
      "[0, 1, 4, 9, 16, 25, 36, 49, 64, 81]\n"
     ]
    }
   ],
   "source": [
    "liste_2 = [i**2 for i in range(10)]\n",
    "print(liste_2)"
   ]
  },
  {
   "cell_type": "code",
   "execution_count": 5,
   "id": "b5883226",
   "metadata": {},
   "outputs": [],
   "source": [
    "liste_3 = [[0 for i in range(8)] for j in range(8)]"
   ]
  },
  {
   "cell_type": "code",
   "execution_count": 6,
   "id": "db702377",
   "metadata": {},
   "outputs": [
    {
     "data": {
      "text/plain": [
       "[[0, 0, 0, 0, 0, 0, 0, 0],\n",
       " [0, 0, 0, 0, 0, 0, 0, 0],\n",
       " [0, 0, 0, 0, 0, 0, 0, 0],\n",
       " [0, 0, 0, 0, 0, 0, 0, 0],\n",
       " [0, 0, 0, 0, 0, 0, 0, 0],\n",
       " [0, 0, 0, 0, 0, 0, 0, 0],\n",
       " [0, 0, 0, 0, 0, 0, 0, 0],\n",
       " [0, 0, 0, 0, 0, 0, 0, 0]]"
      ]
     },
     "execution_count": 6,
     "metadata": {},
     "output_type": "execute_result"
    }
   ],
   "source": [
    "liste_3"
   ]
  },
  {
   "cell_type": "markdown",
   "id": "243fa0d8",
   "metadata": {},
   "source": [
    "## Dict Comprehension"
   ]
  },
  {
   "cell_type": "code",
   "execution_count": 7,
   "id": "acbcbe1c",
   "metadata": {},
   "outputs": [],
   "source": [
    "prenoms = ['Pierre', 'Jean', 'Julie', 'Sophie']"
   ]
  },
  {
   "cell_type": "code",
   "execution_count": 8,
   "id": "e77ae080",
   "metadata": {},
   "outputs": [
    {
     "name": "stdout",
     "output_type": "stream",
     "text": [
      "{0: 'Pierre', 1: 'Jean', 2: 'Julie', 3: 'Sophie'}\n"
     ]
    }
   ],
   "source": [
    "dico = {k:v for k, v in enumerate(prenoms)}\n",
    "print(dico)"
   ]
  },
  {
   "cell_type": "code",
   "execution_count": 1,
   "id": "2e8406a5",
   "metadata": {},
   "outputs": [],
   "source": [
    "ages = [24,62,10,23]"
   ]
  },
  {
   "cell_type": "code",
   "execution_count": 12,
   "id": "d2ca42a9",
   "metadata": {},
   "outputs": [],
   "source": [
    "prenoms = ['Pierre', 'Jean', 'Julie', 'Sophie']\n",
    "dico_2 = {prenom:age for prenom, age in zip(prenoms, ages) if age > 20}"
   ]
  },
  {
   "cell_type": "code",
   "execution_count": 13,
   "id": "77fff0b9",
   "metadata": {},
   "outputs": [
    {
     "data": {
      "text/plain": [
       "{'Pierre': 24, 'Jean': 62, 'Sophie': 23}"
      ]
     },
     "execution_count": 13,
     "metadata": {},
     "output_type": "execute_result"
    }
   ],
   "source": [
    "dico_2"
   ]
  },
  {
   "cell_type": "code",
   "execution_count": 15,
   "id": "bbf53c20",
   "metadata": {},
   "outputs": [
    {
     "data": {
      "text/plain": [
       "(0, 1, 4, 9, 16, 25, 36, 49, 64, 81)"
      ]
     },
     "execution_count": 15,
     "metadata": {},
     "output_type": "execute_result"
    }
   ],
   "source": [
    "tuple_1 = tuple((i**2 for i in range(10)))\n",
    "tuple_1"
   ]
  },
  {
   "cell_type": "code",
   "execution_count": 5,
   "id": "f4f13cd0",
   "metadata": {},
   "outputs": [
    {
     "data": {
      "text/plain": [
       "[0, 1, 2, 3, 4, 5, 6, 7, 8, 9, 10, 11, 12, 13, 14, 15, 16, 17, 18, 19, 20]"
      ]
     },
     "execution_count": 5,
     "metadata": {},
     "output_type": "execute_result"
    }
   ],
   "source": [
    "list_k = [i for i in range(21)]\n",
    "list_k"
   ]
  },
  {
   "cell_type": "code",
   "execution_count": 6,
   "id": "a4348d37",
   "metadata": {},
   "outputs": [],
   "source": [
    "list_k = [i for i in range(21)]\n",
    "list_v = [i**2 for i in range(21)]"
   ]
  },
  {
   "cell_type": "code",
   "execution_count": 7,
   "id": "0f43c7ad",
   "metadata": {},
   "outputs": [
    {
     "data": {
      "text/plain": [
       "[0,\n",
       " 1,\n",
       " 4,\n",
       " 9,\n",
       " 16,\n",
       " 25,\n",
       " 36,\n",
       " 49,\n",
       " 64,\n",
       " 81,\n",
       " 100,\n",
       " 121,\n",
       " 144,\n",
       " 169,\n",
       " 196,\n",
       " 225,\n",
       " 256,\n",
       " 289,\n",
       " 324,\n",
       " 361,\n",
       " 400]"
      ]
     },
     "execution_count": 7,
     "metadata": {},
     "output_type": "execute_result"
    }
   ],
   "source": [
    "list_v"
   ]
  },
  {
   "cell_type": "code",
   "execution_count": 8,
   "id": "712f9f03",
   "metadata": {},
   "outputs": [],
   "source": [
    "dico_kv = {k:v for k, v in zip(list_k, list_v)}"
   ]
  },
  {
   "cell_type": "code",
   "execution_count": 9,
   "id": "72b34d25",
   "metadata": {},
   "outputs": [
    {
     "data": {
      "text/plain": [
       "{0: 0,\n",
       " 1: 1,\n",
       " 2: 4,\n",
       " 3: 9,\n",
       " 4: 16,\n",
       " 5: 25,\n",
       " 6: 36,\n",
       " 7: 49,\n",
       " 8: 64,\n",
       " 9: 81,\n",
       " 10: 100,\n",
       " 11: 121,\n",
       " 12: 144,\n",
       " 13: 169,\n",
       " 14: 196,\n",
       " 15: 225,\n",
       " 16: 256,\n",
       " 17: 289,\n",
       " 18: 324,\n",
       " 19: 361,\n",
       " 20: 400}"
      ]
     },
     "execution_count": 9,
     "metadata": {},
     "output_type": "execute_result"
    }
   ],
   "source": [
    "dico_kv"
   ]
  },
  {
   "cell_type": "code",
   "execution_count": null,
   "id": "4834b6e6",
   "metadata": {},
   "outputs": [],
   "source": []
  }
 ],
 "metadata": {
  "kernelspec": {
   "display_name": "Python 3",
   "language": "python",
   "name": "python3"
  },
  "language_info": {
   "codemirror_mode": {
    "name": "ipython",
    "version": 3
   },
   "file_extension": ".py",
   "mimetype": "text/x-python",
   "name": "python",
   "nbconvert_exporter": "python",
   "pygments_lexer": "ipython3",
   "version": "3.7.7"
  }
 },
 "nbformat": 4,
 "nbformat_minor": 5
}
