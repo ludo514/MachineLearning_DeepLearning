{
 "cells": [
  {
   "cell_type": "code",
   "execution_count": 1,
   "id": "00a73fe3-fde8-43b4-a7e7-35557ae9b8db",
   "metadata": {},
   "outputs": [],
   "source": [
    "import numpy as np"
   ]
  },
  {
   "cell_type": "code",
   "execution_count": 2,
   "id": "fda52b76-3a0e-43e6-a966-5d1400610d8f",
   "metadata": {},
   "outputs": [],
   "source": [
    "a = np.array([1,2,3])"
   ]
  },
  {
   "cell_type": "code",
   "execution_count": 3,
   "id": "81305b0e-026d-4165-aff6-2f2ee1624268",
   "metadata": {},
   "outputs": [
    {
     "data": {
      "text/plain": [
       "(3,)"
      ]
     },
     "execution_count": 3,
     "metadata": {},
     "output_type": "execute_result"
    }
   ],
   "source": [
    "a.shape # taille"
   ]
  },
  {
   "cell_type": "code",
   "execution_count": 4,
   "id": "30538386-eb5d-4ef1-9e43-d4961896ced4",
   "metadata": {},
   "outputs": [
    {
     "data": {
      "text/plain": [
       "1"
      ]
     },
     "execution_count": 4,
     "metadata": {},
     "output_type": "execute_result"
    }
   ],
   "source": [
    "a.ndim # nombre de dimension"
   ]
  },
  {
   "cell_type": "code",
   "execution_count": 6,
   "id": "208bddfe-0163-418b-a611-f2296f590482",
   "metadata": {},
   "outputs": [
    {
     "data": {
      "text/plain": [
       "array([[0., 0., 0.],\n",
       "       [0., 0., 0.],\n",
       "       [0., 0., 0.]])"
      ]
     },
     "execution_count": 6,
     "metadata": {},
     "output_type": "execute_result"
    }
   ],
   "source": [
    "B = np.zeros((3,3)) #initialise un tableau 2d remplis de 0\n",
    "B"
   ]
  },
  {
   "cell_type": "code",
   "execution_count": 7,
   "id": "0a48ae71-66d8-439c-94f2-8d4f6b8cdc40",
   "metadata": {},
   "outputs": [
    {
     "data": {
      "text/plain": [
       "array([[1., 1., 1., 1.],\n",
       "       [1., 1., 1., 1.],\n",
       "       [1., 1., 1., 1.]])"
      ]
     },
     "execution_count": 7,
     "metadata": {},
     "output_type": "execute_result"
    }
   ],
   "source": [
    "C = np.ones((3,4))\n",
    "C"
   ]
  },
  {
   "cell_type": "code",
   "execution_count": 8,
   "id": "b7a9fa00-0838-47f7-ac4a-538b4aeff1dc",
   "metadata": {},
   "outputs": [
    {
     "data": {
      "text/plain": [
       "array([[ 0.55480357,  0.48749278, -2.59525446, -0.83510673],\n",
       "       [ 0.30078768,  0.89748774, -0.06017212,  1.2666685 ],\n",
       "       [ 0.62620088,  0.01076669,  0.95292645,  0.17923272]])"
      ]
     },
     "execution_count": 8,
     "metadata": {},
     "output_type": "execute_result"
    }
   ],
   "source": [
    "np.random.randn(3,4) \n",
    "#génère des nombres aléatoires dans un tableau"
   ]
  },
  {
   "cell_type": "code",
   "execution_count": 9,
   "id": "a6e6a441-8f49-4e47-98a2-81973e252d19",
   "metadata": {},
   "outputs": [
    {
     "data": {
      "text/plain": [
       "array([[1., 0., 0., 0.],\n",
       "       [0., 1., 0., 0.],\n",
       "       [0., 0., 1., 0.],\n",
       "       [0., 0., 0., 1.]])"
      ]
     },
     "execution_count": 9,
     "metadata": {},
     "output_type": "execute_result"
    }
   ],
   "source": [
    "np.eye(4)"
   ]
  },
  {
   "cell_type": "code",
   "execution_count": 10,
   "id": "b124d9b1-236a-4ed8-9b0a-e6eead1c9d28",
   "metadata": {},
   "outputs": [
    {
     "data": {
      "text/plain": [
       "array([ 0.        ,  0.52631579,  1.05263158,  1.57894737,  2.10526316,\n",
       "        2.63157895,  3.15789474,  3.68421053,  4.21052632,  4.73684211,\n",
       "        5.26315789,  5.78947368,  6.31578947,  6.84210526,  7.36842105,\n",
       "        7.89473684,  8.42105263,  8.94736842,  9.47368421, 10.        ])"
      ]
     },
     "execution_count": 10,
     "metadata": {},
     "output_type": "execute_result"
    }
   ],
   "source": [
    "np.linspace(0,10,20, dtype=np.float16) \n",
    "#répartie un tableau de 0 à 10 sur 20 points\n",
    "#dtype défini le type de données"
   ]
  },
  {
   "cell_type": "code",
   "execution_count": 11,
   "id": "03321382-7459-4096-9656-54413eed7b29",
   "metadata": {},
   "outputs": [
    {
     "data": {
      "text/plain": [
       "array([0, 1, 2, 3, 4, 5, 6, 7, 8, 9])"
      ]
     },
     "execution_count": 11,
     "metadata": {},
     "output_type": "execute_result"
    }
   ],
   "source": [
    "np.arange(0, 10, 1) #crée un tableau de 0 à 10 avec un pas de 1"
   ]
  },
  {
   "cell_type": "markdown",
   "id": "02409f60-b325-4aaa-ab48-ecab5438fd16",
   "metadata": {},
   "source": [
    "# MANIPULATION"
   ]
  },
  {
   "cell_type": "code",
   "execution_count": 16,
   "id": "d6d461f5-d6e1-4266-b4de-6fb6bfc3921e",
   "metadata": {},
   "outputs": [
    {
     "data": {
      "text/plain": [
       "array([[1., 1., 0., 0.],\n",
       "       [1., 1., 0., 0.]])"
      ]
     },
     "execution_count": 16,
     "metadata": {},
     "output_type": "execute_result"
    }
   ],
   "source": [
    "A = np.ones((2,2))\n",
    "B = np.zeros((2,2))\n",
    "np.hstack((A, B)) # colle les deux tableaux horizontalement"
   ]
  },
  {
   "cell_type": "code",
   "execution_count": 17,
   "id": "fab5901b-0a1d-46bc-8650-d8a602f3c961",
   "metadata": {},
   "outputs": [
    {
     "data": {
      "text/plain": [
       "array([[1., 1.],\n",
       "       [1., 1.],\n",
       "       [0., 0.],\n",
       "       [0., 0.]])"
      ]
     },
     "execution_count": 17,
     "metadata": {},
     "output_type": "execute_result"
    }
   ],
   "source": [
    "np.vstack((A, B)) # colle les deux tableau verticalement"
   ]
  },
  {
   "cell_type": "code",
   "execution_count": null,
   "id": "06dd7899-e7fd-470d-96fb-d6461ae06916",
   "metadata": {},
   "outputs": [],
   "source": [
    "D = np.concatenate((A, B), axis=1)\n",
    "# fait la même chose que vstack et hstack"
   ]
  },
  {
   "cell_type": "code",
   "execution_count": 23,
   "id": "b0eee510-4bfb-4a72-9af0-078751e99e5b",
   "metadata": {},
   "outputs": [
    {
     "data": {
      "text/plain": [
       "8"
      ]
     },
     "execution_count": 23,
     "metadata": {},
     "output_type": "execute_result"
    }
   ],
   "source": [
    "D.size"
   ]
  },
  {
   "cell_type": "code",
   "execution_count": 25,
   "id": "77c921dc-0958-4f46-997d-857425f64097",
   "metadata": {},
   "outputs": [
    {
     "data": {
      "text/plain": [
       "array([[1., 1., 0., 0.],\n",
       "       [1., 1., 0., 0.]])"
      ]
     },
     "execution_count": 25,
     "metadata": {},
     "output_type": "execute_result"
    }
   ],
   "source": [
    "D.reshape((2,4)) # change les dimension du tableau que si size = 8"
   ]
  },
  {
   "cell_type": "code",
   "execution_count": 27,
   "id": "1e06ee5f-83b5-4f62-a441-35511de0f86e",
   "metadata": {},
   "outputs": [
    {
     "data": {
      "text/plain": [
       "(3, 1)"
      ]
     },
     "execution_count": 27,
     "metadata": {},
     "output_type": "execute_result"
    }
   ],
   "source": [
    "E = np.array([1,2,3])\n",
    "E = E.reshape((E.shape[0], 1)) # ajoute une dimension au shape\n",
    "E.shape"
   ]
  },
  {
   "cell_type": "code",
   "execution_count": 31,
   "id": "cea16629-42ea-40b2-94d6-05844f0e76dc",
   "metadata": {},
   "outputs": [
    {
     "data": {
      "text/plain": [
       "(3,)"
      ]
     },
     "execution_count": 31,
     "metadata": {},
     "output_type": "execute_result"
    }
   ],
   "source": [
    "E = E.squeeze() # supprime une dimension au shape\n",
    "E.shape"
   ]
  },
  {
   "cell_type": "code",
   "execution_count": 32,
   "id": "c96359f6-ae8e-4590-a854-439f63fbb1fd",
   "metadata": {},
   "outputs": [
    {
     "data": {
      "text/plain": [
       "array([1., 1., 0., 0., 1., 1., 0., 0.])"
      ]
     },
     "execution_count": 32,
     "metadata": {},
     "output_type": "execute_result"
    }
   ],
   "source": [
    "D.ravel() # affiche un tableau sur une seul dimension"
   ]
  },
  {
   "cell_type": "markdown",
   "id": "ce18c538-8a95-4a39-8d42-e495fb6db299",
   "metadata": {},
   "source": [
    "# EXO"
   ]
  },
  {
   "cell_type": "code",
   "execution_count": 43,
   "id": "bf8b00ba-fc0f-478f-b937-1a24b12147cb",
   "metadata": {},
   "outputs": [],
   "source": [
    "def initialisation(m, n):\n",
    "    A = np.random.randn(m, n)\n",
    "    #B = np.ones((m, n - (n -1)))\n",
    "    #C = np.concatenate((A, B), axis=1)\n",
    "    A = np.concatenate((A, np.ones((A.shape[0], 1))), axis=1)\n",
    "    return A"
   ]
  },
  {
   "cell_type": "code",
   "execution_count": 44,
   "id": "d82826db-695a-4a9f-bc2f-355c8d15ff6a",
   "metadata": {},
   "outputs": [
    {
     "data": {
      "text/plain": [
       "array([[-0.19079847, -1.46247064,  1.        ],\n",
       "       [-1.29449203, -0.13221027,  1.        ]])"
      ]
     },
     "execution_count": 44,
     "metadata": {},
     "output_type": "execute_result"
    }
   ],
   "source": [
    "initialisation(2,2)"
   ]
  }
 ],
 "metadata": {
  "kernelspec": {
   "display_name": "Python 3",
   "language": "python",
   "name": "python3"
  },
  "language_info": {
   "codemirror_mode": {
    "name": "ipython",
    "version": 3
   },
   "file_extension": ".py",
   "mimetype": "text/x-python",
   "name": "python",
   "nbconvert_exporter": "python",
   "pygments_lexer": "ipython3",
   "version": "3.7.7"
  }
 },
 "nbformat": 4,
 "nbformat_minor": 5
}
